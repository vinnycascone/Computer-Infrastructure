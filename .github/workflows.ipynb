{
 "cells": [
  {
   "cell_type": "markdown",
   "metadata": {},
   "source": [
    "# Steps to Set Up and Run the Workflow for Automating Weather Data\n",
    "\n",
    "## 1. Create the `.github/workflows/` Folder: \n",
    "In your repository, create a folder called .github/workflows/ (if it doesn't already exist). Inside this folder, create a file called weather-data.yml. This file will define the GitHub Actions workflow.\n",
    "\n",
    "\n",
    "### Steps Taken:\n",
    "- Created the repository in my VS Code editor at the root of your repository with the following path:\n",
    "- - .github/workflows/\n",
    "- Inside the workflows folder, I have created a new file called weather-data.yml and then I have then open the file for editing.\n",
    "\n",
    "## 2. Run Daily at 10am: \n",
    "Use the schedule event with cron to set the script to run once a day at 10am. Include also the workflow_dispatch event so you can test the workflow.\n",
    "\n",
    "To configure the workflow to run daily at 10 AM and include the ability to manually trigger it, in my weather-data.yml file I did the following steps:\n",
    "\n",
    "- Opened the weather-data.yml file \n",
    "- inputted the following code to define the triggers:\n",
    "\n",
    "\"name: Automate Weather Data\n",
    "\n",
    "on:\n",
    "\n",
    "  schedule:\n",
    "\n",
    "    - cron: '0 10 * * *'\n",
    "\n",
    "  workflow_dispatch:\"\n",
    "  \n",
    "\n",
    "Explanation: \n",
    "\n",
    "- schedule: used a cron expression (0 10 * * *) to schedule the workflow. This allows to run the workflow daily at 10:00 AM UTC.\n",
    "- workflow_dispatch: to add a button in the Actions tab on GitHub, allowing the manual start of the workflow for testing or troubleshooting.\n",
    "\n",
    "\n",
    "Documentation Reference:\n",
    "GitHub Actions: Events that trigger workflows (schedule)\n",
    "Cron Expression Reference\n",
    "GitHub Actions: Events that trigger workflows (workflow_dispatch)\n",
    "\n"
   ]
  },
  {
   "cell_type": "markdown",
   "metadata": {},
   "source": []
  }
 ],
 "metadata": {
  "language_info": {
   "name": "python"
  }
 },
 "nbformat": 4,
 "nbformat_minor": 2
}
